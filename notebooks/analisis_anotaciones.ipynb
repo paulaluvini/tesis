{
  "nbformat": 4,
  "nbformat_minor": 0,
  "metadata": {
    "colab": {
      "provenance": [],
      "toc_visible": true
    },
    "kernelspec": {
      "name": "python3",
      "display_name": "Python 3"
    },
    "language_info": {
      "name": "python"
    }
  },
  "cells": [
    {
      "cell_type": "code",
      "source": [
        "import pandas as pd\n",
        "from sklearn.metrics import cohen_kappa_score"
      ],
      "metadata": {
        "id": "g3OGT6msLLVK"
      },
      "execution_count": 1,
      "outputs": []
    },
    {
      "cell_type": "code",
      "execution_count": 2,
      "metadata": {
        "colab": {
          "base_uri": "https://localhost:8080/"
        },
        "id": "T6SLC8SkKqSs",
        "outputId": "a2011b50-76a0-4bcc-c6fb-ed38b37c789f"
      },
      "outputs": [
        {
          "output_type": "stream",
          "name": "stdout",
          "text": [
            "Mounted at /content/gdrive\n"
          ]
        }
      ],
      "source": [
        "from google.colab import drive\n",
        "\n",
        "drive.mount('/content/gdrive')\n",
        "path = \"/content/gdrive/MyDrive/Tesis_Maestria/annotations\""
      ]
    },
    {
      "cell_type": "code",
      "source": [
        "anotaciones_g1 = pd.read_excel(path + \"/anotaciones.xlsx\", sheet_name = 'Grupo 1')\n",
        "anotaciones_g2 = pd.read_excel(path + \"/anotaciones.xlsx\", sheet_name = 'Grupo 2')\n",
        "anotaciones_g1.head()"
      ],
      "metadata": {
        "colab": {
          "base_uri": "https://localhost:8080/",
          "height": 206
        },
        "id": "OOEZtkBOK5bi",
        "outputId": "8a0dd680-fba6-4b41-aac4-bcacb9d5c11f"
      },
      "execution_count": 5,
      "outputs": [
        {
          "output_type": "execute_result",
          "data": {
            "text/plain": [
              "   ronda                      id target_g1_a1 target_g1_a2 categoria_g1_a1  \\\n",
              "0      1  id_1510402408144330766           Si           No           Abuso   \n",
              "1      1  id_1511710516158283776           Si           Si         Crítica   \n",
              "2      1  id_1510637498095054859           Si           Si           Abuso   \n",
              "3      1  id_1510387595653484544           Si           Si           Abuso   \n",
              "4      1  id_1510390196164079622           Si           Si           Abuso   \n",
              "\n",
              "  categoria_g1_a2  \n",
              "0        Untarget  \n",
              "1           Abuso  \n",
              "2           Abuso  \n",
              "3           Abuso  \n",
              "4         Crítica  "
            ],
            "text/html": [
              "\n",
              "  <div id=\"df-66a1677b-99e3-49ee-be3e-83b031904db9\">\n",
              "    <div class=\"colab-df-container\">\n",
              "      <div>\n",
              "<style scoped>\n",
              "    .dataframe tbody tr th:only-of-type {\n",
              "        vertical-align: middle;\n",
              "    }\n",
              "\n",
              "    .dataframe tbody tr th {\n",
              "        vertical-align: top;\n",
              "    }\n",
              "\n",
              "    .dataframe thead th {\n",
              "        text-align: right;\n",
              "    }\n",
              "</style>\n",
              "<table border=\"1\" class=\"dataframe\">\n",
              "  <thead>\n",
              "    <tr style=\"text-align: right;\">\n",
              "      <th></th>\n",
              "      <th>ronda</th>\n",
              "      <th>id</th>\n",
              "      <th>target_g1_a1</th>\n",
              "      <th>target_g1_a2</th>\n",
              "      <th>categoria_g1_a1</th>\n",
              "      <th>categoria_g1_a2</th>\n",
              "    </tr>\n",
              "  </thead>\n",
              "  <tbody>\n",
              "    <tr>\n",
              "      <th>0</th>\n",
              "      <td>1</td>\n",
              "      <td>id_1510402408144330766</td>\n",
              "      <td>Si</td>\n",
              "      <td>No</td>\n",
              "      <td>Abuso</td>\n",
              "      <td>Untarget</td>\n",
              "    </tr>\n",
              "    <tr>\n",
              "      <th>1</th>\n",
              "      <td>1</td>\n",
              "      <td>id_1511710516158283776</td>\n",
              "      <td>Si</td>\n",
              "      <td>Si</td>\n",
              "      <td>Crítica</td>\n",
              "      <td>Abuso</td>\n",
              "    </tr>\n",
              "    <tr>\n",
              "      <th>2</th>\n",
              "      <td>1</td>\n",
              "      <td>id_1510637498095054859</td>\n",
              "      <td>Si</td>\n",
              "      <td>Si</td>\n",
              "      <td>Abuso</td>\n",
              "      <td>Abuso</td>\n",
              "    </tr>\n",
              "    <tr>\n",
              "      <th>3</th>\n",
              "      <td>1</td>\n",
              "      <td>id_1510387595653484544</td>\n",
              "      <td>Si</td>\n",
              "      <td>Si</td>\n",
              "      <td>Abuso</td>\n",
              "      <td>Abuso</td>\n",
              "    </tr>\n",
              "    <tr>\n",
              "      <th>4</th>\n",
              "      <td>1</td>\n",
              "      <td>id_1510390196164079622</td>\n",
              "      <td>Si</td>\n",
              "      <td>Si</td>\n",
              "      <td>Abuso</td>\n",
              "      <td>Crítica</td>\n",
              "    </tr>\n",
              "  </tbody>\n",
              "</table>\n",
              "</div>\n",
              "      <button class=\"colab-df-convert\" onclick=\"convertToInteractive('df-66a1677b-99e3-49ee-be3e-83b031904db9')\"\n",
              "              title=\"Convert this dataframe to an interactive table.\"\n",
              "              style=\"display:none;\">\n",
              "        \n",
              "  <svg xmlns=\"http://www.w3.org/2000/svg\" height=\"24px\"viewBox=\"0 0 24 24\"\n",
              "       width=\"24px\">\n",
              "    <path d=\"M0 0h24v24H0V0z\" fill=\"none\"/>\n",
              "    <path d=\"M18.56 5.44l.94 2.06.94-2.06 2.06-.94-2.06-.94-.94-2.06-.94 2.06-2.06.94zm-11 1L8.5 8.5l.94-2.06 2.06-.94-2.06-.94L8.5 2.5l-.94 2.06-2.06.94zm10 10l.94 2.06.94-2.06 2.06-.94-2.06-.94-.94-2.06-.94 2.06-2.06.94z\"/><path d=\"M17.41 7.96l-1.37-1.37c-.4-.4-.92-.59-1.43-.59-.52 0-1.04.2-1.43.59L10.3 9.45l-7.72 7.72c-.78.78-.78 2.05 0 2.83L4 21.41c.39.39.9.59 1.41.59.51 0 1.02-.2 1.41-.59l7.78-7.78 2.81-2.81c.8-.78.8-2.07 0-2.86zM5.41 20L4 18.59l7.72-7.72 1.47 1.35L5.41 20z\"/>\n",
              "  </svg>\n",
              "      </button>\n",
              "      \n",
              "  <style>\n",
              "    .colab-df-container {\n",
              "      display:flex;\n",
              "      flex-wrap:wrap;\n",
              "      gap: 12px;\n",
              "    }\n",
              "\n",
              "    .colab-df-convert {\n",
              "      background-color: #E8F0FE;\n",
              "      border: none;\n",
              "      border-radius: 50%;\n",
              "      cursor: pointer;\n",
              "      display: none;\n",
              "      fill: #1967D2;\n",
              "      height: 32px;\n",
              "      padding: 0 0 0 0;\n",
              "      width: 32px;\n",
              "    }\n",
              "\n",
              "    .colab-df-convert:hover {\n",
              "      background-color: #E2EBFA;\n",
              "      box-shadow: 0px 1px 2px rgba(60, 64, 67, 0.3), 0px 1px 3px 1px rgba(60, 64, 67, 0.15);\n",
              "      fill: #174EA6;\n",
              "    }\n",
              "\n",
              "    [theme=dark] .colab-df-convert {\n",
              "      background-color: #3B4455;\n",
              "      fill: #D2E3FC;\n",
              "    }\n",
              "\n",
              "    [theme=dark] .colab-df-convert:hover {\n",
              "      background-color: #434B5C;\n",
              "      box-shadow: 0px 1px 3px 1px rgba(0, 0, 0, 0.15);\n",
              "      filter: drop-shadow(0px 1px 2px rgba(0, 0, 0, 0.3));\n",
              "      fill: #FFFFFF;\n",
              "    }\n",
              "  </style>\n",
              "\n",
              "      <script>\n",
              "        const buttonEl =\n",
              "          document.querySelector('#df-66a1677b-99e3-49ee-be3e-83b031904db9 button.colab-df-convert');\n",
              "        buttonEl.style.display =\n",
              "          google.colab.kernel.accessAllowed ? 'block' : 'none';\n",
              "\n",
              "        async function convertToInteractive(key) {\n",
              "          const element = document.querySelector('#df-66a1677b-99e3-49ee-be3e-83b031904db9');\n",
              "          const dataTable =\n",
              "            await google.colab.kernel.invokeFunction('convertToInteractive',\n",
              "                                                     [key], {});\n",
              "          if (!dataTable) return;\n",
              "\n",
              "          const docLinkHtml = 'Like what you see? Visit the ' +\n",
              "            '<a target=\"_blank\" href=https://colab.research.google.com/notebooks/data_table.ipynb>data table notebook</a>'\n",
              "            + ' to learn more about interactive tables.';\n",
              "          element.innerHTML = '';\n",
              "          dataTable['output_type'] = 'display_data';\n",
              "          await google.colab.output.renderOutput(dataTable, element);\n",
              "          const docLink = document.createElement('div');\n",
              "          docLink.innerHTML = docLinkHtml;\n",
              "          element.appendChild(docLink);\n",
              "        }\n",
              "      </script>\n",
              "    </div>\n",
              "  </div>\n",
              "  "
            ]
          },
          "metadata": {},
          "execution_count": 5
        }
      ]
    },
    {
      "cell_type": "markdown",
      "source": [
        "# Cohen Kappa"
      ],
      "metadata": {
        "id": "C0_rpLKmZpMq"
      }
    },
    {
      "cell_type": "code",
      "source": [
        "c_kappa = cohen_kappa_score(list(anotaciones_g1['target_g1_a1'])+list(anotaciones_g2['target_g2_a1']), list(anotaciones_g1['target_g1_a2'])+list(anotaciones_g2['target_g2_a2']))\n",
        "# Print the result\n",
        "print(\"Cohen alpha:\", round(c_kappa,2))"
      ],
      "metadata": {
        "colab": {
          "base_uri": "https://localhost:8080/"
        },
        "id": "qaZX0_K8gFnu",
        "outputId": "c57a37f2-b6c7-4fed-8949-d4934c7a2ad0"
      },
      "execution_count": 32,
      "outputs": [
        {
          "output_type": "stream",
          "name": "stdout",
          "text": [
            "Cohen alpha: 0.49\n"
          ]
        }
      ]
    },
    {
      "cell_type": "code",
      "source": [
        "c_kappa = cohen_kappa_score(list(anotaciones_g1['categoria_g1_a1'])+list(anotaciones_g2['categoria_g2_a1']), list(anotaciones_g1['categoria_g1_a2'])+list(anotaciones_g2['categoria_g2_a2']))\n",
        "# Print the result\n",
        "print(\"Cohen alpha:\", round(c_kappa,2))"
      ],
      "metadata": {
        "colab": {
          "base_uri": "https://localhost:8080/"
        },
        "id": "X02MtangfzYB",
        "outputId": "970b6288-cb5a-40c0-cdde-0abcb6b04368"
      },
      "execution_count": 31,
      "outputs": [
        {
          "output_type": "stream",
          "name": "stdout",
          "text": [
            "Cohen alpha: 0.47\n"
          ]
        }
      ]
    },
    {
      "cell_type": "markdown",
      "source": [
        "## Grupo 1\n",
        "\n",
        "Estando el coeficiente de K promedio entre 0.4 y 0.6 podemos decir que el agreement es moderado."
      ],
      "metadata": {
        "id": "vg324vuZYeO1"
      }
    },
    {
      "cell_type": "code",
      "source": [
        "for ronda in anotaciones_g1['ronda'].unique():\n",
        "  print(\"Ronda\",ronda,':',round(cohen_kappa_score(list(anotaciones_g1[anotaciones_g1['ronda']==ronda]['target_g1_a1']), list(anotaciones_g1[anotaciones_g1['ronda']==ronda]['target_g1_a2'])),2))\n",
        "print('Total:',round(cohen_kappa_score(list(anotaciones_g1['target_g1_a1']), list(anotaciones_g1['target_g1_a2'])),2))"
      ],
      "metadata": {
        "colab": {
          "base_uri": "https://localhost:8080/"
        },
        "id": "aXrA7-qfMZ9C",
        "outputId": "ea5a1689-723a-41e5-b6c4-84a86b898603"
      },
      "execution_count": null,
      "outputs": [
        {
          "output_type": "stream",
          "name": "stdout",
          "text": [
            "Ronda 1 : 0.43\n",
            "Ronda 2 : 0.39\n",
            "Ronda 3 : 0.37\n",
            "Ronda 4 : 0.41\n",
            "Ronda 5 : 0.58\n",
            "Ronda 6 : 0.59\n",
            "Total: 0.49\n"
          ]
        }
      ]
    },
    {
      "cell_type": "code",
      "source": [
        "for ronda in anotaciones_g1['ronda'].unique():\n",
        "  print(\"Ronda\",ronda,':',round(cohen_kappa_score(list(anotaciones_g1[anotaciones_g1['ronda']==ronda]['categoria_g1_a1']), list(anotaciones_g1[anotaciones_g1['ronda']==ronda]['categoria_g1_a2'])),2))\n",
        "print('Total:',round(cohen_kappa_score(list(anotaciones_g1['categoria_g1_a1']), list(anotaciones_g1['categoria_g1_a2'])),2))"
      ],
      "metadata": {
        "colab": {
          "base_uri": "https://localhost:8080/"
        },
        "id": "EibcODFiNIAk",
        "outputId": "36470b7a-95ef-4f80-8b07-0faf4723b0fe"
      },
      "execution_count": null,
      "outputs": [
        {
          "output_type": "stream",
          "name": "stdout",
          "text": [
            "Ronda 1 : 0.38\n",
            "Ronda 2 : 0.4\n",
            "Ronda 3 : 0.4\n",
            "Ronda 4 : 0.42\n",
            "Ronda 5 : 0.52\n",
            "Ronda 6 : 0.56\n",
            "Total: 0.48\n"
          ]
        }
      ]
    },
    {
      "cell_type": "markdown",
      "source": [
        "## Grupo 2\n",
        "\n",
        "Estando el coeficiente de K promedio entre 0.4 y 0.6 podemos decir que el agreement es moderado."
      ],
      "metadata": {
        "id": "RCCWm66UYWBh"
      }
    },
    {
      "cell_type": "code",
      "source": [
        "anotaciones_g2.head()"
      ],
      "metadata": {
        "colab": {
          "base_uri": "https://localhost:8080/",
          "height": 206
        },
        "id": "tFta_YOYU6Q1",
        "outputId": "cd62d799-71cb-4de8-ddf3-9288c6f87724"
      },
      "execution_count": null,
      "outputs": [
        {
          "output_type": "execute_result",
          "data": {
            "text/plain": [
              "   ronda                      id target_g2_a1 target_g2_a2 categoria_g2_a1  \\\n",
              "0      1  id_1506280588042543108           Si           Si         Crítica   \n",
              "1      1  id_1503764762613583874           Si           Si           Abuso   \n",
              "2      1  id_1508959452107403267           Si           Si         Crítica   \n",
              "3      1  id_1505020917230964738           Si           Si           Abuso   \n",
              "4      1  id_1511128697939677186           Si           Si           Abuso   \n",
              "\n",
              "  categoria_g2_a2  \n",
              "0           Abuso  \n",
              "1           Abuso  \n",
              "2         Crítica  \n",
              "3           Abuso  \n",
              "4           Abuso  "
            ],
            "text/html": [
              "\n",
              "  <div id=\"df-5c0bd947-fd0c-466f-a063-ff41e01d1467\">\n",
              "    <div class=\"colab-df-container\">\n",
              "      <div>\n",
              "<style scoped>\n",
              "    .dataframe tbody tr th:only-of-type {\n",
              "        vertical-align: middle;\n",
              "    }\n",
              "\n",
              "    .dataframe tbody tr th {\n",
              "        vertical-align: top;\n",
              "    }\n",
              "\n",
              "    .dataframe thead th {\n",
              "        text-align: right;\n",
              "    }\n",
              "</style>\n",
              "<table border=\"1\" class=\"dataframe\">\n",
              "  <thead>\n",
              "    <tr style=\"text-align: right;\">\n",
              "      <th></th>\n",
              "      <th>ronda</th>\n",
              "      <th>id</th>\n",
              "      <th>target_g2_a1</th>\n",
              "      <th>target_g2_a2</th>\n",
              "      <th>categoria_g2_a1</th>\n",
              "      <th>categoria_g2_a2</th>\n",
              "    </tr>\n",
              "  </thead>\n",
              "  <tbody>\n",
              "    <tr>\n",
              "      <th>0</th>\n",
              "      <td>1</td>\n",
              "      <td>id_1506280588042543108</td>\n",
              "      <td>Si</td>\n",
              "      <td>Si</td>\n",
              "      <td>Crítica</td>\n",
              "      <td>Abuso</td>\n",
              "    </tr>\n",
              "    <tr>\n",
              "      <th>1</th>\n",
              "      <td>1</td>\n",
              "      <td>id_1503764762613583874</td>\n",
              "      <td>Si</td>\n",
              "      <td>Si</td>\n",
              "      <td>Abuso</td>\n",
              "      <td>Abuso</td>\n",
              "    </tr>\n",
              "    <tr>\n",
              "      <th>2</th>\n",
              "      <td>1</td>\n",
              "      <td>id_1508959452107403267</td>\n",
              "      <td>Si</td>\n",
              "      <td>Si</td>\n",
              "      <td>Crítica</td>\n",
              "      <td>Crítica</td>\n",
              "    </tr>\n",
              "    <tr>\n",
              "      <th>3</th>\n",
              "      <td>1</td>\n",
              "      <td>id_1505020917230964738</td>\n",
              "      <td>Si</td>\n",
              "      <td>Si</td>\n",
              "      <td>Abuso</td>\n",
              "      <td>Abuso</td>\n",
              "    </tr>\n",
              "    <tr>\n",
              "      <th>4</th>\n",
              "      <td>1</td>\n",
              "      <td>id_1511128697939677186</td>\n",
              "      <td>Si</td>\n",
              "      <td>Si</td>\n",
              "      <td>Abuso</td>\n",
              "      <td>Abuso</td>\n",
              "    </tr>\n",
              "  </tbody>\n",
              "</table>\n",
              "</div>\n",
              "      <button class=\"colab-df-convert\" onclick=\"convertToInteractive('df-5c0bd947-fd0c-466f-a063-ff41e01d1467')\"\n",
              "              title=\"Convert this dataframe to an interactive table.\"\n",
              "              style=\"display:none;\">\n",
              "        \n",
              "  <svg xmlns=\"http://www.w3.org/2000/svg\" height=\"24px\"viewBox=\"0 0 24 24\"\n",
              "       width=\"24px\">\n",
              "    <path d=\"M0 0h24v24H0V0z\" fill=\"none\"/>\n",
              "    <path d=\"M18.56 5.44l.94 2.06.94-2.06 2.06-.94-2.06-.94-.94-2.06-.94 2.06-2.06.94zm-11 1L8.5 8.5l.94-2.06 2.06-.94-2.06-.94L8.5 2.5l-.94 2.06-2.06.94zm10 10l.94 2.06.94-2.06 2.06-.94-2.06-.94-.94-2.06-.94 2.06-2.06.94z\"/><path d=\"M17.41 7.96l-1.37-1.37c-.4-.4-.92-.59-1.43-.59-.52 0-1.04.2-1.43.59L10.3 9.45l-7.72 7.72c-.78.78-.78 2.05 0 2.83L4 21.41c.39.39.9.59 1.41.59.51 0 1.02-.2 1.41-.59l7.78-7.78 2.81-2.81c.8-.78.8-2.07 0-2.86zM5.41 20L4 18.59l7.72-7.72 1.47 1.35L5.41 20z\"/>\n",
              "  </svg>\n",
              "      </button>\n",
              "      \n",
              "  <style>\n",
              "    .colab-df-container {\n",
              "      display:flex;\n",
              "      flex-wrap:wrap;\n",
              "      gap: 12px;\n",
              "    }\n",
              "\n",
              "    .colab-df-convert {\n",
              "      background-color: #E8F0FE;\n",
              "      border: none;\n",
              "      border-radius: 50%;\n",
              "      cursor: pointer;\n",
              "      display: none;\n",
              "      fill: #1967D2;\n",
              "      height: 32px;\n",
              "      padding: 0 0 0 0;\n",
              "      width: 32px;\n",
              "    }\n",
              "\n",
              "    .colab-df-convert:hover {\n",
              "      background-color: #E2EBFA;\n",
              "      box-shadow: 0px 1px 2px rgba(60, 64, 67, 0.3), 0px 1px 3px 1px rgba(60, 64, 67, 0.15);\n",
              "      fill: #174EA6;\n",
              "    }\n",
              "\n",
              "    [theme=dark] .colab-df-convert {\n",
              "      background-color: #3B4455;\n",
              "      fill: #D2E3FC;\n",
              "    }\n",
              "\n",
              "    [theme=dark] .colab-df-convert:hover {\n",
              "      background-color: #434B5C;\n",
              "      box-shadow: 0px 1px 3px 1px rgba(0, 0, 0, 0.15);\n",
              "      filter: drop-shadow(0px 1px 2px rgba(0, 0, 0, 0.3));\n",
              "      fill: #FFFFFF;\n",
              "    }\n",
              "  </style>\n",
              "\n",
              "      <script>\n",
              "        const buttonEl =\n",
              "          document.querySelector('#df-5c0bd947-fd0c-466f-a063-ff41e01d1467 button.colab-df-convert');\n",
              "        buttonEl.style.display =\n",
              "          google.colab.kernel.accessAllowed ? 'block' : 'none';\n",
              "\n",
              "        async function convertToInteractive(key) {\n",
              "          const element = document.querySelector('#df-5c0bd947-fd0c-466f-a063-ff41e01d1467');\n",
              "          const dataTable =\n",
              "            await google.colab.kernel.invokeFunction('convertToInteractive',\n",
              "                                                     [key], {});\n",
              "          if (!dataTable) return;\n",
              "\n",
              "          const docLinkHtml = 'Like what you see? Visit the ' +\n",
              "            '<a target=\"_blank\" href=https://colab.research.google.com/notebooks/data_table.ipynb>data table notebook</a>'\n",
              "            + ' to learn more about interactive tables.';\n",
              "          element.innerHTML = '';\n",
              "          dataTable['output_type'] = 'display_data';\n",
              "          await google.colab.output.renderOutput(dataTable, element);\n",
              "          const docLink = document.createElement('div');\n",
              "          docLink.innerHTML = docLinkHtml;\n",
              "          element.appendChild(docLink);\n",
              "        }\n",
              "      </script>\n",
              "    </div>\n",
              "  </div>\n",
              "  "
            ]
          },
          "metadata": {},
          "execution_count": 46
        }
      ]
    },
    {
      "cell_type": "code",
      "source": [],
      "metadata": {
        "id": "5yFu0NIvU9uM"
      },
      "execution_count": null,
      "outputs": []
    },
    {
      "cell_type": "code",
      "source": [
        "for ronda in anotaciones_g2['ronda'].unique():\n",
        "  print(\"Ronda\",ronda,':',round(cohen_kappa_score(list(anotaciones_g2[anotaciones_g2['ronda']==ronda]['target_g2_a1']), list(anotaciones_g2[anotaciones_g2['ronda']==ronda]['target_g2_a2'])),2))\n",
        "print('Total:',round(cohen_kappa_score(list(anotaciones_g2['target_g2_a1']), list(anotaciones_g2['target_g2_a2'])),2))"
      ],
      "metadata": {
        "colab": {
          "base_uri": "https://localhost:8080/"
        },
        "id": "wH274R76U-Aj",
        "outputId": "ed885d3c-6598-478a-a9ac-794a7e26a29e"
      },
      "execution_count": null,
      "outputs": [
        {
          "output_type": "stream",
          "name": "stdout",
          "text": [
            "Ronda 1 : 0.31\n",
            "Ronda 2 : 0.68\n",
            "Ronda 3 : 0.62\n",
            "Ronda 4 : 0.3\n",
            "Total: 0.51\n"
          ]
        }
      ]
    },
    {
      "cell_type": "code",
      "source": [
        "for ronda in anotaciones_g2['ronda'].unique():\n",
        "  print(\"Ronda\",ronda,':',round(cohen_kappa_score(list(anotaciones_g2[anotaciones_g2['ronda']==ronda]['categoria_g2_a1']), list(anotaciones_g2[anotaciones_g2['ronda']==ronda]['categoria_g2_a2'])),2))\n",
        "print('Total:',round(cohen_kappa_score(list(anotaciones_g2['categoria_g2_a1']), list(anotaciones_g2['categoria_g2_a2'])),2))"
      ],
      "metadata": {
        "colab": {
          "base_uri": "https://localhost:8080/"
        },
        "id": "_JXXEhZ1U9lV",
        "outputId": "9efd86e6-f117-42f0-ada9-b79988607145"
      },
      "execution_count": null,
      "outputs": [
        {
          "output_type": "stream",
          "name": "stdout",
          "text": [
            "Ronda 1 : 0.32\n",
            "Ronda 2 : 0.45\n",
            "Ronda 3 : 0.52\n",
            "Ronda 4 : 0.42\n",
            "Total: 0.45\n"
          ]
        }
      ]
    },
    {
      "cell_type": "markdown",
      "source": [
        "# Krippendorff kappa\n",
        "\n",
        "Krippendorff's alpha ranges from -1 to 1, where 1 indicates perfect agreement, 0 indicates agreement expected by chance, and negative values indicate less agreement than expected by chance."
      ],
      "metadata": {
        "id": "aKzvLD_CZru8"
      }
    },
    {
      "cell_type": "code",
      "source": [
        "pip install krippendorff"
      ],
      "metadata": {
        "colab": {
          "base_uri": "https://localhost:8080/"
        },
        "id": "9gk0qa7FZv90",
        "outputId": "62038070-8a93-4fd6-a26d-5fe334ffdcba"
      },
      "execution_count": 3,
      "outputs": [
        {
          "output_type": "stream",
          "name": "stdout",
          "text": [
            "Looking in indexes: https://pypi.org/simple, https://us-python.pkg.dev/colab-wheels/public/simple/\n",
            "Collecting krippendorff\n",
            "  Downloading krippendorff-0.6.0-py3-none-any.whl (17 kB)\n",
            "Requirement already satisfied: numpy<2.0,>=1.21 in /usr/local/lib/python3.10/dist-packages (from krippendorff) (1.22.4)\n",
            "Installing collected packages: krippendorff\n",
            "Successfully installed krippendorff-0.6.0\n"
          ]
        }
      ]
    },
    {
      "cell_type": "code",
      "source": [
        "from krippendorff import alpha"
      ],
      "metadata": {
        "id": "SZrKKm1iaLhP"
      },
      "execution_count": 9,
      "outputs": []
    },
    {
      "cell_type": "code",
      "source": [
        "# Define the mapping dictionary\n",
        "mapping = {\n",
        "    'Si': 1,\n",
        "    'No': 2\n",
        "}\n",
        "\n",
        "# Create a new column with the numerical values\n",
        "\n",
        "anotaciones_g1['target_g1_a1_masked'] = anotaciones_g1['target_g1_a1'].map(mapping)\n",
        "anotaciones_g1['target_g1_a2_masked'] = anotaciones_g1['target_g1_a2'].map(mapping)\n",
        "\n",
        "anotaciones_g2['target_g2_a1_masked'] = anotaciones_g2['target_g2_a1'].map(mapping)\n",
        "anotaciones_g2['target_g2_a2_masked'] = anotaciones_g2['target_g2_a2'].map(mapping)"
      ],
      "metadata": {
        "id": "gQtSuX21gOho"
      },
      "execution_count": 33,
      "outputs": []
    },
    {
      "cell_type": "code",
      "source": [
        "# Calculate Krippendorff's alpha\n",
        "k_alpha = alpha(reliability_data=[list(anotaciones_g1['target_g1_a1_masked'])+list(anotaciones_g2['target_g2_a1_masked']), list(anotaciones_g1['target_g1_a2_masked'])+list(anotaciones_g2['target_g2_a2_masked'])])\n",
        "\n",
        "# Print the result\n",
        "print(\"Krippendorff's alpha:\", round(k_alpha,2))"
      ],
      "metadata": {
        "colab": {
          "base_uri": "https://localhost:8080/"
        },
        "id": "P3KvZSemgmXr",
        "outputId": "0ac879de-f11b-4ef2-a0d3-14d821aae487"
      },
      "execution_count": 35,
      "outputs": [
        {
          "output_type": "stream",
          "name": "stdout",
          "text": [
            "Krippendorff's alpha: 0.49\n"
          ]
        }
      ]
    },
    {
      "cell_type": "code",
      "source": [
        "# Define the mapping dictionary\n",
        "mapping = {\n",
        "    'Crítica': 1,\n",
        "    'Abuso': 2,\n",
        "    'Untarget': 3,\n",
        "    'Positivo': 4,\n",
        "    'Neutral': 5,\n",
        "    'Contra Abuso':6\n",
        "}\n",
        "\n",
        "# Create a new column with the numerical values\n",
        "\n",
        "anotaciones_g1['categoria_g1_a1_masked'] = anotaciones_g1['categoria_g1_a1'].map(mapping)\n",
        "anotaciones_g1['categoria_g1_a2_masked'] = anotaciones_g1['categoria_g1_a2'].map(mapping)\n",
        "\n",
        "anotaciones_g2['categoria_g2_a1_masked'] = anotaciones_g2['categoria_g2_a1'].map(mapping)\n",
        "anotaciones_g2['categoria_g2_a2_masked'] = anotaciones_g2['categoria_g2_a2'].map(mapping)"
      ],
      "metadata": {
        "id": "EgejhGSPasBB"
      },
      "execution_count": 15,
      "outputs": []
    },
    {
      "cell_type": "code",
      "source": [
        "# Calculate Krippendorff's alpha\n",
        "k_alpha = alpha(reliability_data=[list(anotaciones_g1['categoria_g1_a1_masked'])+list(anotaciones_g2['categoria_g2_a1_masked']), list(anotaciones_g1['categoria_g1_a2_masked'])+list(anotaciones_g2['categoria_g2_a2_masked'])])\n",
        "\n",
        "# Print the result\n",
        "print(\"Krippendorff's alpha:\", round(k_alpha,2))"
      ],
      "metadata": {
        "colab": {
          "base_uri": "https://localhost:8080/"
        },
        "id": "MLOyfbIoeeu9",
        "outputId": "c384a50b-2d67-4aaa-cd4b-4ca547bedaf1"
      },
      "execution_count": 27,
      "outputs": [
        {
          "output_type": "stream",
          "name": "stdout",
          "text": [
            "Krippendorff's alpha: 0.49\n"
          ]
        }
      ]
    },
    {
      "cell_type": "markdown",
      "source": [
        "## Grupo 1"
      ],
      "metadata": {
        "id": "B7QnWb3wdk-p"
      }
    },
    {
      "cell_type": "code",
      "source": [
        "# Calculate Krippendorff's alpha\n",
        "k_alpha = alpha(reliability_data=[list(anotaciones_g1['categoria_g1_a1_masked']), list(anotaciones_g1['categoria_g1_a2_masked'])])\n",
        "\n",
        "# Print the result\n",
        "print(\"Krippendorff's alpha:\", round(k_alpha,2))"
      ],
      "metadata": {
        "colab": {
          "base_uri": "https://localhost:8080/"
        },
        "id": "v9kRZp3bbplZ",
        "outputId": "3e6b1b0d-2327-4f77-ee7f-af7b17285f32"
      },
      "execution_count": 23,
      "outputs": [
        {
          "output_type": "stream",
          "name": "stdout",
          "text": [
            "Krippendorff's alpha: 0.53\n"
          ]
        }
      ]
    },
    {
      "cell_type": "code",
      "source": [
        "print(\"Krippendorff's alpha:\", round(k_alpha,2))\n",
        "for ronda in anotaciones_g1['ronda'].unique():\n",
        "  print(\"Ronda\",ronda,':',round(alpha(reliability_data=[list(anotaciones_g1[anotaciones_g1['ronda']==ronda]['categoria_g1_a1_masked']), list(anotaciones_g1[anotaciones_g1['ronda']==ronda]['categoria_g1_a2_masked'])]),2))"
      ],
      "metadata": {
        "colab": {
          "base_uri": "https://localhost:8080/"
        },
        "id": "LF_uRmPwclQv",
        "outputId": "845113ea-5d87-4527-8f48-67fa620f5637"
      },
      "execution_count": 24,
      "outputs": [
        {
          "output_type": "stream",
          "name": "stdout",
          "text": [
            "Krippendorff's alpha: 0.53\n",
            "Ronda 1 : 0.24\n",
            "Ronda 2 : 0.44\n",
            "Ronda 3 : 0.41\n",
            "Ronda 4 : 0.52\n",
            "Ronda 5 : 0.66\n",
            "Ronda 6 : 0.64\n"
          ]
        }
      ]
    },
    {
      "cell_type": "markdown",
      "source": [
        "## Grupo 2"
      ],
      "metadata": {
        "id": "taY3q90fdhCJ"
      }
    },
    {
      "cell_type": "code",
      "source": [
        "# Calculate Krippendorff's alpha\n",
        "k_alpha = alpha(reliability_data=[list(anotaciones_g2['categoria_g2_a1_masked']), list(anotaciones_g2['categoria_g2_a2_masked'])])\n",
        "\n",
        "# Print the result\n",
        "print(\"Krippendorff's alpha:\", round(k_alpha,2))"
      ],
      "metadata": {
        "colab": {
          "base_uri": "https://localhost:8080/"
        },
        "id": "7ox7kr3oZtDk",
        "outputId": "9e607091-c3f5-40b3-fa59-53fed6602c0a"
      },
      "execution_count": 20,
      "outputs": [
        {
          "output_type": "stream",
          "name": "stdout",
          "text": [
            "Krippendorff's alpha: 0.42\n"
          ]
        }
      ]
    },
    {
      "cell_type": "code",
      "source": [
        "print(\"Krippendorff's alpha:\", round(k_alpha,2))\n",
        "for ronda in anotaciones_g2['ronda'].unique():\n",
        "  print(\"Ronda\",ronda,':',round(alpha(reliability_data=[list(anotaciones_g2[anotaciones_g2['ronda']==ronda]['categoria_g2_a1_masked']), list(anotaciones_g2[anotaciones_g2['ronda']==ronda]['categoria_g2_a2_masked'])]),2))"
      ],
      "metadata": {
        "colab": {
          "base_uri": "https://localhost:8080/"
        },
        "id": "TjCrcj49ckac",
        "outputId": "d976691b-c794-4a47-a16d-6e60ed319141"
      },
      "execution_count": 22,
      "outputs": [
        {
          "output_type": "stream",
          "name": "stdout",
          "text": [
            "Krippendorff's alpha: 0.42\n",
            "Ronda 1 : 0.28\n",
            "Ronda 2 : 0.38\n",
            "Ronda 3 : 0.48\n",
            "Ronda 4 : 0.45\n"
          ]
        }
      ]
    }
  ]
}
